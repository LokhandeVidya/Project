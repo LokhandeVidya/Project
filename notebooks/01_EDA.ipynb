{
 "cells": [
  {
   "cell_type": "code",
   "execution_count": null,
   "id": "7b1a1bf9",
   "metadata": {},
   "outputs": [],
   "source": [
    "import pandas as pd\n",
    "import matplotlib.pyplot as plt\n",
    "import seaborn as sns\n",
    "\n",
    "df = pd.read_csv(\"../data/raw/synthetic_energy.csv\", parse_dates=['timestamp'])\n",
    "df.set_index(\"timestamp\", inplace=True)\n",
    "\n",
    "# Plot\n",
    "plt.figure(figsize=(12, 4))\n",
    "df['consumption_kWh'].plot(title=\"Hourly Energy Consumption\")\n",
    "plt.ylabel(\"kWh\")\n",
    "plt.grid()\n",
    "plt.show()\n"
   ]
  }
 ],
 "metadata": {
  "language_info": {
   "name": "python"
  }
 },
 "nbformat": 4,
 "nbformat_minor": 5
}
